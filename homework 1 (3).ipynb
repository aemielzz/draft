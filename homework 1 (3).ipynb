{
 "cells": [
  {
   "cell_type": "markdown",
   "id": "d68b3588-28ca-4e1c-8571-fed95e1aed55",
   "metadata": {},
   "source": [
    "## Experiment 1"
   ]
  },
  {
   "cell_type": "markdown",
   "id": "c77441a6-4a49-44ab-855b-f541563e2a3b",
   "metadata": {},
   "source": [
    "### INTRODUCTION TO PYTHON PROGRAMMING\n"
   ]
  },
  {
   "cell_type": "markdown",
   "id": "aa958ff4-c8c5-462f-96ad-e024429d6a8e",
   "metadata": {},
   "source": [
    "##### Amiel Elestin M. Cruz\n",
    "##### 2ECE-D"
   ]
  },
  {
   "cell_type": "markdown",
   "id": "fb59f0f5-249d-4573-b615-c3bb365cd553",
   "metadata": {},
   "source": [
    "### 1. Alphabet Soup Problem"
   ]
  },
  {
   "cell_type": "code",
   "execution_count": 537,
   "id": "7a7ed1b2-35c1-4659-810f-cd6d85f0483f",
   "metadata": {},
   "outputs": [],
   "source": [
    "def alphabet_soup(s): \n",
    "    sorted_string=''.join(sorted(s))\n",
    "    return sorted_string"
   ]
  },
  {
   "cell_type": "code",
   "execution_count": 538,
   "id": "5e826a49-149f-42b1-bec5-79929780ccb0",
   "metadata": {},
   "outputs": [
    {
     "name": "stdout",
     "output_type": "stream",
     "text": [
      "ehllo\n"
     ]
    }
   ],
   "source": [
    "print (alphabet_soup(\"hello\"))"
   ]
  },
  {
   "cell_type": "code",
   "execution_count": 556,
   "id": "fdb23a02-181f-4519-ba85-95de63ffa383",
   "metadata": {},
   "outputs": [
    {
     "name": "stdout",
     "output_type": "stream",
     "text": [
      "ahpstuw\n"
     ]
    }
   ],
   "source": [
    "print (alphabet_soup(\"whatsup\"))"
   ]
  },
  {
   "cell_type": "markdown",
   "id": "88da4c0d-9521-4993-8aa3-9aa9f9761b17",
   "metadata": {},
   "source": [
    "### 2. Emoticon Problem"
   ]
  },
  {
   "cell_type": "code",
   "execution_count": 544,
   "id": "bda71457-fc75-44ab-83df-8362e5310789",
   "metadata": {},
   "outputs": [],
   "source": [
    "def emoticon(a):\n",
    "    return a.replace (\"smile\",\":)\").replace (\"grin\",\":D\").replace (\"sad\",\":((\").replace (\"mad\",\">:(\")\n",
    "   "
   ]
  },
  {
   "cell_type": "code",
   "execution_count": 548,
   "id": "adbf293e-b9bd-486f-a4cf-fc939e0bdeb3",
   "metadata": {},
   "outputs": [
    {
     "name": "stdout",
     "output_type": "stream",
     "text": [
      "you always make me :)\n"
     ]
    }
   ],
   "source": [
    "print (emoticon(\"you always make me smile\"))"
   ]
  },
  {
   "cell_type": "code",
   "execution_count": null,
   "id": "8030eb47-3fa9-4edd-8a20-0569585864ef",
   "metadata": {},
   "outputs": [],
   "source": []
  },
  {
   "cell_type": "code",
   "execution_count": 550,
   "id": "d0f4aaa1-a636-4a06-b0fe-d8c9a8eddfd7",
   "metadata": {},
   "outputs": [
    {
     "name": "stdout",
     "output_type": "stream",
     "text": [
      "I am :((\n"
     ]
    }
   ],
   "source": [
    "print (emoticon(\"I am sad\"))\n",
    "       "
   ]
  },
  {
   "cell_type": "code",
   "execution_count": 552,
   "id": "c024f5e5-4a58-410e-ac71-4f111088c074",
   "metadata": {},
   "outputs": [
    {
     "name": "stdout",
     "output_type": "stream",
     "text": [
      "first: Luneta  middle: ['Intramuros', 'Fort Santiago']  last: Binondo\n"
     ]
    }
   ],
   "source": [
    "T=[\"Luneta\", \"Intramuros\", \"Fort Santiago\", \"Binondo\"]\n",
    "      \n",
    "print(\"first:\",T[0],\" middle:\",T[1:3],\" last:\",T[-1])"
   ]
  }
 ],
 "metadata": {
  "kernelspec": {
   "display_name": "Python 3 (ipykernel)",
   "language": "python",
   "name": "python3"
  },
  "language_info": {
   "codemirror_mode": {
    "name": "ipython",
    "version": 3
   },
   "file_extension": ".py",
   "mimetype": "text/x-python",
   "name": "python",
   "nbconvert_exporter": "python",
   "pygments_lexer": "ipython3",
   "version": "3.12.4"
  }
 },
 "nbformat": 4,
 "nbformat_minor": 5
}
