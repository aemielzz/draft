{
 "cells": [
  {
   "cell_type": "markdown",
   "id": "9f58ccd7-0f37-45b7-aeb2-46f065b3f46c",
   "metadata": {},
   "source": [
    "## Experiment 1"
   ]
  },
  {
   "cell_type": "markdown",
   "id": "3486735c-a632-4a3a-b91f-5f4694e48107",
   "metadata": {},
   "source": [
    "## NUMERICAL PYTHON (NUMPY)"
   ]
  },
  {
   "cell_type": "markdown",
   "id": "e64acd12-28d2-4248-a7cd-bf48c5541870",
   "metadata": {},
   "source": [
    "##### Amiel Elestin M. Cruz\n",
    "##### 2ECE-D"
   ]
  },
  {
   "cell_type": "markdown",
   "id": "3e6b52bc-e68a-4ed9-b01c-8cf4f8608aa1",
   "metadata": {},
   "source": [
    "### 1. Normalization Problem"
   ]
  },
  {
   "cell_type": "code",
   "execution_count": 1,
   "id": "9ee942cb-fa98-4dbe-a6b6-72ffe06f7dfb",
   "metadata": {},
   "outputs": [],
   "source": [
    "import numpy as np "
   ]
  },
  {
   "cell_type": "code",
   "execution_count": 3,
   "id": "bddfcdc0-baad-45a6-84f3-cc3ddce6bf2a",
   "metadata": {},
   "outputs": [],
   "source": [
    "x = np.random.random((5,5))"
   ]
  },
  {
   "cell_type": "code",
   "execution_count": 5,
   "id": "b1b2a3da-132e-4da2-b208-6791eafe87d9",
   "metadata": {},
   "outputs": [
    {
     "name": "stdout",
     "output_type": "stream",
     "text": [
      "[[0.15220798 0.93166333 0.29945955 0.96257103 0.96358483]\n",
      " [0.55643253 0.72983881 0.81795093 0.36137002 0.91999706]\n",
      " [0.84527039 0.04404988 0.18917307 0.96828022 0.71428778]\n",
      " [0.11300114 0.4162496  0.00294299 0.59850562 0.6310884 ]\n",
      " [0.09778948 0.05146296 0.92810181 0.18071257 0.73463789]]\n"
     ]
    }
   ],
   "source": [
    "print (x)"
   ]
  },
  {
   "cell_type": "code",
   "execution_count": 7,
   "id": "8581ac83-6593-4a39-889e-47d933efccca",
   "metadata": {},
   "outputs": [],
   "source": [
    "a = x.mean()"
   ]
  },
  {
   "cell_type": "code",
   "execution_count": 9,
   "id": "d234eb8f-2b7f-4872-96bd-64d58a7a4807",
   "metadata": {},
   "outputs": [],
   "source": [
    "b = x.std()"
   ]
  },
  {
   "cell_type": "code",
   "execution_count": 11,
   "id": "a73009c0-8075-4e68-a483-7b38f004e624",
   "metadata": {},
   "outputs": [],
   "source": [
    "normal = (x-a)/b"
   ]
  },
  {
   "cell_type": "code",
   "execution_count": 13,
   "id": "0dfb386a-b915-4088-95c6-48e97e8d5081",
   "metadata": {},
   "outputs": [
    {
     "name": "stdout",
     "output_type": "stream",
     "text": [
      "[[-1.09860535  1.17751012 -0.66861079  1.26776478  1.27072523]\n",
      " [ 0.08178522  0.58815512  0.84545446 -0.48782381  1.14344303]\n",
      " [ 0.92523101 -1.41444171 -0.99066227  1.28443641  0.542744  ]\n",
      " [-1.21309465 -0.32756797 -1.53447941  0.20464436  0.2997905 ]\n",
      " [-1.25751476 -1.39279449  1.16711    -1.01536808  0.60216906]]\n"
     ]
    }
   ],
   "source": [
    "print (normal)"
   ]
  },
  {
   "cell_type": "code",
   "execution_count": 15,
   "id": "541aed4b-ac10-49f2-b6e6-09425e882ff3",
   "metadata": {},
   "outputs": [],
   "source": [
    "np.save ('X_normalized.npy', normal)"
   ]
  },
  {
   "cell_type": "markdown",
   "id": "cdfdc929-0a81-4d51-9e82-4b5781c2b1cf",
   "metadata": {},
   "source": []
  },
  {
   "cell_type": "code",
   "execution_count": 33,
   "id": "9ace0004-2b3b-405b-b3ac-0154545a2a75",
   "metadata": {},
   "outputs": [
    {
     "name": "stdout",
     "output_type": "stream",
     "text": [
      "[[    1     4     9    16    25    36    49    64    81   100]\n",
      " [  121   144   169   196   225   256   289   324   361   400]\n",
      " [  441   484   529   576   625   676   729   784   841   900]\n",
      " [  961  1024  1089  1156  1225  1296  1369  1444  1521  1600]\n",
      " [ 1681  1764  1849  1936  2025  2116  2209  2304  2401  2500]\n",
      " [ 2601  2704  2809  2916  3025  3136  3249  3364  3481  3600]\n",
      " [ 3721  3844  3969  4096  4225  4356  4489  4624  4761  4900]\n",
      " [ 5041  5184  5329  5476  5625  5776  5929  6084  6241  6400]\n",
      " [ 6561  6724  6889  7056  7225  7396  7569  7744  7921  8100]\n",
      " [ 8281  8464  8649  8836  9025  9216  9409  9604  9801 10000]]\n"
     ]
    }
   ],
   "source": [
    "a = np.arange(1,101)\n",
    "e = np.square (a)\n",
    "m = e.reshape (10,10)\n",
    "\n",
    "print(m)"
   ]
  },
  {
   "cell_type": "code",
   "execution_count": 67,
   "id": "62cf7773-3b6c-42dc-9e0e-16382a1a0e40",
   "metadata": {},
   "outputs": [
    {
     "name": "stdout",
     "output_type": "stream",
     "text": [
      "[   9   36   81  144  225  324  441  576  729  900 1089 1296 1521 1764\n",
      " 2025 2304 2601 2916 3249 3600 3969 4356 4761 5184 5625 6084 6561 7056\n",
      " 7569 8100 8649 9216 9801]\n"
     ]
    }
   ],
   "source": [
    "c = m [m%3==0]\n",
    "\n",
    "print (c)"
   ]
  },
  {
   "cell_type": "code",
   "execution_count": 43,
   "id": "d3767c95-d660-40d5-9d0d-fe47e1cd3296",
   "metadata": {},
   "outputs": [],
   "source": [
    "np.save ('div_by_3.npy',c)"
   ]
  },
  {
   "cell_type": "code",
   "execution_count": null,
   "id": "f530e50c-3fe0-402a-9904-589c702b923d",
   "metadata": {},
   "outputs": [],
   "source": []
  }
 ],
 "metadata": {
  "kernelspec": {
   "display_name": "Python 3 (ipykernel)",
   "language": "python",
   "name": "python3"
  },
  "language_info": {
   "codemirror_mode": {
    "name": "ipython",
    "version": 3
   },
   "file_extension": ".py",
   "mimetype": "text/x-python",
   "name": "python",
   "nbconvert_exporter": "python",
   "pygments_lexer": "ipython3",
   "version": "3.12.4"
  }
 },
 "nbformat": 4,
 "nbformat_minor": 5
}
